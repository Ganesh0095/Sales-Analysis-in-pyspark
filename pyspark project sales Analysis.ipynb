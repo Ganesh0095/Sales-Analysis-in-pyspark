{
 "cells": [
  {
   "cell_type": "code",
   "execution_count": 0,
   "metadata": {
    "application/vnd.databricks.v1+cell": {
     "cellMetadata": {
      "byteLimit": 2048000,
      "rowLimit": 10000
     },
     "inputWidgets": {},
     "nuid": "fbd43a46-35b0-4e86-a4fd-c23a5611af41",
     "showTitle": false,
     "title": ""
    }
   },
   "outputs": [
    {
     "output_type": "display_data",
     "data": {
      "text/plain": [
       "\u001B[0;31m---------------------------------------------------------------------------\u001B[0m\n",
       "\u001B[0;31mNameError\u001B[0m                                 Traceback (most recent call last)\n",
       "File \u001B[0;32m<command-227914601219558>:1\u001B[0m\n",
       "\u001B[0;32m----> 1\u001B[0m FileStore\u001B[38;5;241m/\u001B[39mtables\u001B[38;5;241m/\u001B[39msales_csv\u001B[38;5;241m.\u001B[39mtxt()\n",
       "\u001B[1;32m      3\u001B[0m FileStore\u001B[38;5;241m/\u001B[39mtables\u001B[38;5;241m/\u001B[39mmenu_csv\u001B[38;5;241m.\u001B[39mtxt()\n",
       "\n",
       "\u001B[0;31mNameError\u001B[0m: name 'FileStore' is not defined"
      ]
     },
     "metadata": {
      "application/vnd.databricks.v1+output": {
       "arguments": {},
       "data": "\u001B[0;31m---------------------------------------------------------------------------\u001B[0m\n\u001B[0;31mNameError\u001B[0m                                 Traceback (most recent call last)\nFile \u001B[0;32m<command-227914601219558>:1\u001B[0m\n\u001B[0;32m----> 1\u001B[0m FileStore\u001B[38;5;241m/\u001B[39mtables\u001B[38;5;241m/\u001B[39msales_csv\u001B[38;5;241m.\u001B[39mtxt()\n\u001B[1;32m      3\u001B[0m FileStore\u001B[38;5;241m/\u001B[39mtables\u001B[38;5;241m/\u001B[39mmenu_csv\u001B[38;5;241m.\u001B[39mtxt()\n\n\u001B[0;31mNameError\u001B[0m: name 'FileStore' is not defined",
       "errorSummary": "<span class='ansi-red-fg'>NameError</span>: name 'FileStore' is not defined",
       "errorTraceType": "ansi",
       "metadata": {},
       "type": "ipynbError"
      }
     },
     "output_type": "display_data"
    }
   ],
   "source": [
    "\n",
    "\n",
    "\n",
    "/FileStore/tables/sales_csv.txt\n",
    "\n",
    "/FileStore/tables/menu_csv.txt"
   ]
  },
  {
   "cell_type": "code",
   "execution_count": 0,
   "metadata": {
    "application/vnd.databricks.v1+cell": {
     "cellMetadata": {
      "byteLimit": 2048000,
      "rowLimit": 10000
     },
     "inputWidgets": {},
     "nuid": "4208f5ca-a342-444a-880c-d241588584d0",
     "showTitle": true,
     "title": "sales dataframe"
    }
   },
   "outputs": [
    {
     "output_type": "display_data",
     "data": {
      "text/plain": [
       ""
      ]
     },
     "metadata": {
      "application/vnd.databricks.v1+output": {
       "arguments": {},
       "data": "",
       "errorSummary": "Command skipped",
       "errorTraceType": "ansi",
       "metadata": {},
       "type": "ipynbError"
      }
     },
     "output_type": "display_data"
    }
   ],
   "source": [
    "from pyspark.sql.types import StructType,StructField,IntegerType,StringType,DateType\n",
    "\n",
    "schema=StructType([\n",
    "\n",
    "    StructField(\"product_id\",IntegerType(),True),\n",
    "    StructField(\"customer_id\",StringType(),True),\n",
    "    StructField(\"order_date\",DateType(),True),\n",
    "    StructField(\"location\",StringType(),True),\n",
    "    StructField(\"source_order\",StringType(),True),\n",
    "\n",
    "])\n",
    "\n",
    "\n",
    "sales_df=spark.read.format(\"csv\").option(\"inferschema\",\"true\").schema(schema).load(\"/FileStore/tables/sales_csv.txt\")\n",
    "display(sales_df)"
   ]
  },
  {
   "cell_type": "code",
   "execution_count": 0,
   "metadata": {
    "application/vnd.databricks.v1+cell": {
     "cellMetadata": {
      "byteLimit": 2048000,
      "rowLimit": 10000
     },
     "inputWidgets": {},
     "nuid": "0b3e4e86-07ca-48bb-9cf9-7d2429e99d9b",
     "showTitle": true,
     "title": "Deriving year, month, quarter"
    }
   },
   "outputs": [
    {
     "output_type": "display_data",
     "data": {
      "text/plain": [
       ""
      ]
     },
     "metadata": {
      "application/vnd.databricks.v1+output": {
       "arguments": {},
       "data": "",
       "errorSummary": "Command skipped",
       "errorTraceType": "ansi",
       "metadata": {},
       "type": "ipynbError"
      }
     },
     "output_type": "display_data"
    }
   ],
   "source": [
    "from pyspark.sql.functions import month, year, quarter\n",
    "\n",
    "sales_df=sales_df.withColumn(\"order_year\",year(sales_df.order_date))\n",
    "\n",
    "display(sales_df)"
   ]
  },
  {
   "cell_type": "code",
   "execution_count": 0,
   "metadata": {
    "application/vnd.databricks.v1+cell": {
     "cellMetadata": {
      "byteLimit": 2048000,
      "rowLimit": 10000
     },
     "inputWidgets": {},
     "nuid": "67e8a91e-3963-4a10-835d-cd9a99c3e674",
     "showTitle": false,
     "title": ""
    }
   },
   "outputs": [
    {
     "output_type": "display_data",
     "data": {
      "text/plain": [
       ""
      ]
     },
     "metadata": {
      "application/vnd.databricks.v1+output": {
       "arguments": {},
       "data": "",
       "errorSummary": "Command skipped",
       "errorTraceType": "ansi",
       "metadata": {},
       "type": "ipynbError"
      }
     },
     "output_type": "display_data"
    }
   ],
   "source": [
    "sales_df=sales_df.withColumn(\"order_month\",month(sales_df.order_date))\n",
    "sales_df=sales_df.withColumn(\"order_quarter\",quarter(sales_df.order_date))\n",
    "\n",
    "display(sales_df)"
   ]
  },
  {
   "cell_type": "code",
   "execution_count": 0,
   "metadata": {
    "application/vnd.databricks.v1+cell": {
     "cellMetadata": {
      "byteLimit": 2048000,
      "rowLimit": 10000
     },
     "inputWidgets": {},
     "nuid": "c8e7cd14-fe68-4fb4-bb25-dd9fe2e19b91",
     "showTitle": true,
     "title": "Menu_DataFrame"
    }
   },
   "outputs": [
    {
     "output_type": "display_data",
     "data": {
      "text/plain": [
       ""
      ]
     },
     "metadata": {
      "application/vnd.databricks.v1+output": {
       "arguments": {},
       "data": "",
       "errorSummary": "Command skipped",
       "errorTraceType": "ansi",
       "metadata": {},
       "type": "ipynbError"
      }
     },
     "output_type": "display_data"
    }
   ],
   "source": [
    "from pyspark.sql.types import StructType,StructField,IntegerType,StringType,DateType\n",
    "\n",
    "schema=StructType([\n",
    "    StructField(\"product_id\",IntegerType(),True),\n",
    "    StructField(\"product_name\",StringType(),True),\n",
    "    StructField(\"price\",StringType(),True)\n",
    "])\n",
    "\n",
    "menu_df=spark.read.format(\"csv\").option(\"inferschema\",\"true\").schema(schema).load(\"/FileStore/tables/menu_csv.txt\")\n",
    "\n",
    "display(menu_df)"
   ]
  },
  {
   "cell_type": "code",
   "execution_count": 0,
   "metadata": {
    "application/vnd.databricks.v1+cell": {
     "cellMetadata": {
      "byteLimit": 2048000,
      "rowLimit": 10000
     },
     "inputWidgets": {},
     "nuid": "eab59bd4-92ed-431b-999b-e342e857fe48",
     "showTitle": true,
     "title": "Total Amount Spent by each customer"
    }
   },
   "outputs": [
    {
     "output_type": "display_data",
     "data": {
      "text/plain": [
       ""
      ]
     },
     "metadata": {
      "application/vnd.databricks.v1+output": {
       "arguments": {},
       "data": "",
       "errorSummary": "Command skipped",
       "errorTraceType": "ansi",
       "metadata": {},
       "type": "ipynbError"
      }
     },
     "output_type": "display_data"
    }
   ],
   "source": [
    "total_amount_spent=(sales_df.join(menu_df,\"product_id\").groupBy(\"customer_id\").agg({\"price\":\"sum\"}).orderBy(\"customer_id\"))\n",
    "\n",
    "display(total_amount_spent)"
   ]
  },
  {
   "cell_type": "code",
   "execution_count": 0,
   "metadata": {
    "application/vnd.databricks.v1+cell": {
     "cellMetadata": {
      "byteLimit": 2048000,
      "rowLimit": 10000
     },
     "inputWidgets": {},
     "nuid": "8573e8e3-25b5-44b9-bb53-b9ce7ed10610",
     "showTitle": true,
     "title": "Total Amount spent by each food category"
    }
   },
   "outputs": [
    {
     "output_type": "display_data",
     "data": {
      "text/plain": [
       ""
      ]
     },
     "metadata": {
      "application/vnd.databricks.v1+output": {
       "arguments": {},
       "data": "",
       "errorSummary": "Command skipped",
       "errorTraceType": "ansi",
       "metadata": {},
       "type": "ipynbError"
      }
     },
     "output_type": "display_data"
    }
   ],
   "source": [
    "total_amount_spent=(sales_df.join(menu_df,\"product_id\").groupBy(\"product_name\").agg({\"price\":\"sum\"}).orderBy(\"product_name\"))\n",
    "\n",
    "display(total_amount_spent)"
   ]
  },
  {
   "cell_type": "code",
   "execution_count": 0,
   "metadata": {
    "application/vnd.databricks.v1+cell": {
     "cellMetadata": {
      "byteLimit": 2048000,
      "rowLimit": 10000
     },
     "inputWidgets": {},
     "nuid": "d9a3b6dd-fe9f-46e4-ab33-2cb9634791a0",
     "showTitle": true,
     "title": "Total Amount of sales in each month"
    }
   },
   "outputs": [
    {
     "output_type": "display_data",
     "data": {
      "text/plain": [
       ""
      ]
     },
     "metadata": {
      "application/vnd.databricks.v1+output": {
       "arguments": {},
       "data": "",
       "errorSummary": "Command skipped",
       "errorTraceType": "ansi",
       "metadata": {},
       "type": "ipynbError"
      }
     },
     "output_type": "display_data"
    }
   ],
   "source": [
    "df1=(sales_df.join(menu_df,\"product_id\").groupBy(\"order_month\").agg({\"price\":\"sum\"}).orderBy(\"order_month\"))\n",
    "\n",
    "display(df1)"
   ]
  },
  {
   "cell_type": "code",
   "execution_count": 0,
   "metadata": {
    "application/vnd.databricks.v1+cell": {
     "cellMetadata": {
      "byteLimit": 2048000,
      "rowLimit": 10000
     },
     "inputWidgets": {},
     "nuid": "8a6b1603-5601-4ce2-b4d0-1ee5faa5c4bb",
     "showTitle": true,
     "title": "Yearly sales"
    }
   },
   "outputs": [
    {
     "output_type": "display_data",
     "data": {
      "text/plain": [
       ""
      ]
     },
     "metadata": {
      "application/vnd.databricks.v1+output": {
       "arguments": {},
       "data": "",
       "errorSummary": "Command skipped",
       "errorTraceType": "ansi",
       "metadata": {},
       "type": "ipynbError"
      }
     },
     "output_type": "display_data"
    }
   ],
   "source": [
    "df2=(sales_df.join(menu_df,\"product_id\").groupBy(\"order_year\").agg({\"price\":\"sum\"}).orderBy(\"order_year\"))\n",
    "\n",
    "display(df2)"
   ]
  },
  {
   "cell_type": "code",
   "execution_count": 0,
   "metadata": {
    "application/vnd.databricks.v1+cell": {
     "cellMetadata": {
      "byteLimit": 2048000,
      "rowLimit": 10000
     },
     "inputWidgets": {},
     "nuid": "a47bf556-c200-4439-b508-ed3fcbf6c9a2",
     "showTitle": true,
     "title": "quarterly sales"
    }
   },
   "outputs": [
    {
     "output_type": "display_data",
     "data": {
      "text/plain": [
       ""
      ]
     },
     "metadata": {
      "application/vnd.databricks.v1+output": {
       "arguments": {},
       "data": "",
       "errorSummary": "Command skipped",
       "errorTraceType": "ansi",
       "metadata": {},
       "type": "ipynbError"
      }
     },
     "output_type": "display_data"
    }
   ],
   "source": [
    "df3=(sales_df.join(menu_df,\"product_id\").groupBy(\"order_quarter\").agg({\"price\":\"sum\"}).orderBy(\"order_quarter\"))\n",
    "\n",
    "display(df3)"
   ]
  },
  {
   "cell_type": "code",
   "execution_count": 0,
   "metadata": {
    "application/vnd.databricks.v1+cell": {
     "cellMetadata": {
      "byteLimit": 2048000,
      "rowLimit": 10000
     },
     "inputWidgets": {},
     "nuid": "e052c0ee-9c54-4cc1-8876-85d78a0e1cb6",
     "showTitle": true,
     "title": "How many times each product purchased"
    }
   },
   "outputs": [
    {
     "output_type": "display_data",
     "data": {
      "text/plain": [
       ""
      ]
     },
     "metadata": {
      "application/vnd.databricks.v1+output": {
       "arguments": {},
       "data": "",
       "errorSummary": "Command skipped",
       "errorTraceType": "ansi",
       "metadata": {},
       "type": "ipynbError"
      }
     },
     "output_type": "display_data"
    }
   ],
   "source": [
    "from pyspark.sql.functions import count\n",
    "\n",
    "most_df=(sales_df.join(menu_df,\"product_id\").groupBy(\"product_id\",\"product_name\").agg(count(\"product_id\").alias(\"product_count\")).orderBy(\"product_count\",ascending=0).drop(\"product_id\"))\n",
    "display(most_df)"
   ]
  },
  {
   "cell_type": "code",
   "execution_count": 0,
   "metadata": {
    "application/vnd.databricks.v1+cell": {
     "cellMetadata": {
      "byteLimit": 2048000,
      "rowLimit": 10000
     },
     "inputWidgets": {},
     "nuid": "b6ee57b6-d066-422e-8dc8-c9e89a0ac278",
     "showTitle": true,
     "title": "Top 5  ordered items"
    }
   },
   "outputs": [
    {
     "output_type": "display_data",
     "data": {
      "text/plain": [
       ""
      ]
     },
     "metadata": {
      "application/vnd.databricks.v1+output": {
       "arguments": {},
       "data": "",
       "errorSummary": "Command skipped",
       "errorTraceType": "ansi",
       "metadata": {},
       "type": "ipynbError"
      }
     },
     "output_type": "display_data"
    }
   ],
   "source": [
    "most5_df=(sales_df.join(menu_df,\"product_id\").groupBy(\"product_id\",\"product_name\").agg(count(\"product_id\").alias(\"product_count\")).orderBy(\"product_count\",ascending=0).drop(\"product_id\").limit(5))\n",
    "\n",
    "display(most5_df)\n",
    "\n"
   ]
  },
  {
   "cell_type": "code",
   "execution_count": 0,
   "metadata": {
    "application/vnd.databricks.v1+cell": {
     "cellMetadata": {
      "byteLimit": 2048000,
      "rowLimit": 10000
     },
     "inputWidgets": {},
     "nuid": "e9fa5cf9-4418-41e2-bed5-a091a1d8ab9b",
     "showTitle": true,
     "title": "Top Ordered items"
    }
   },
   "outputs": [
    {
     "output_type": "display_data",
     "data": {
      "text/plain": [
       ""
      ]
     },
     "metadata": {
      "application/vnd.databricks.v1+output": {
       "arguments": {},
       "data": "",
       "errorSummary": "Command skipped",
       "errorTraceType": "ansi",
       "metadata": {},
       "type": "ipynbError"
      }
     },
     "output_type": "display_data"
    }
   ],
   "source": [
    "top_df=(sales_df.join(menu_df,\"product_id\").groupBy(\"product_id\",\"product_name\").agg(count(\"product_id\").alias(\"product_count\")).orderBy(\"product_count\",ascending=0).drop(\"product_id\").limit(1))\n",
    "\n",
    "display(top_df)\n",
    "\n"
   ]
  },
  {
   "cell_type": "code",
   "execution_count": 0,
   "metadata": {
    "application/vnd.databricks.v1+cell": {
     "cellMetadata": {
      "byteLimit": 2048000,
      "rowLimit": 10000
     },
     "inputWidgets": {},
     "nuid": "e13a53c7-e354-4a44-9c9a-337527916faf",
     "showTitle": true,
     "title": "frequency of customer visited to Restaurant."
    }
   },
   "outputs": [
    {
     "output_type": "display_data",
     "data": {
      "text/plain": [
       ""
      ]
     },
     "metadata": {
      "application/vnd.databricks.v1+output": {
       "arguments": {},
       "data": "",
       "errorSummary": "Command skipped",
       "errorTraceType": "ansi",
       "metadata": {},
       "type": "ipynbError"
      }
     },
     "output_type": "display_data"
    }
   ],
   "source": [
    "from pyspark.sql.functions import countDistinct\n",
    "\n",
    "df=(sales_df.filter(sales_df.source_order==\"Restaurant\").groupBy(\"customer_id\").agg(countDistinct(\"order_date\")))\n",
    "\n",
    "display(df)"
   ]
  },
  {
   "cell_type": "code",
   "execution_count": 0,
   "metadata": {
    "application/vnd.databricks.v1+cell": {
     "cellMetadata": {
      "byteLimit": 2048000,
      "rowLimit": 10000
     },
     "inputWidgets": {},
     "nuid": "07b930b9-b8a1-4612-96c3-c40322e18af6",
     "showTitle": true,
     "title": "Total sales by each country"
    }
   },
   "outputs": [
    {
     "output_type": "display_data",
     "data": {
      "text/plain": [
       ""
      ]
     },
     "metadata": {
      "application/vnd.databricks.v1+output": {
       "arguments": {},
       "data": "",
       "errorSummary": "Command skipped",
       "errorTraceType": "ansi",
       "metadata": {},
       "type": "ipynbError"
      }
     },
     "output_type": "display_data"
    }
   ],
   "source": [
    "sales_country_df=(sales_df.join(menu_df,\"product_id\").groupBy(\"location\").agg({\"price\":\"sum\"}))\n",
    "\n",
    "display(sales_country_df)"
   ]
  },
  {
   "cell_type": "code",
   "execution_count": 0,
   "metadata": {
    "application/vnd.databricks.v1+cell": {
     "cellMetadata": {
      "byteLimit": 2048000,
      "rowLimit": 10000
     },
     "inputWidgets": {},
     "nuid": "4a56c6ab-1133-46b3-b990-6653c5756a98",
     "showTitle": true,
     "title": "total sales by order_source"
    }
   },
   "outputs": [
    {
     "output_type": "display_data",
     "data": {
      "text/plain": [
       ""
      ]
     },
     "metadata": {
      "application/vnd.databricks.v1+output": {
       "arguments": {},
       "data": "",
       "errorSummary": "Command skipped",
       "errorTraceType": "ansi",
       "metadata": {},
       "type": "ipynbError"
      }
     },
     "output_type": "display_data"
    }
   ],
   "source": [
    "TS_df=(sales_df.join(menu_df,\"product_id\").groupBy(\"source_order\").agg({\"price\":\"sum\"}))\n",
    "\n",
    "display(TS_df)"
   ]
  }
 ],
 "metadata": {
  "application/vnd.databricks.v1+notebook": {
   "dashboards": [
    {
     "elements": [
      {
       "dashboardResultIndex": 0,
       "elementNUID": "8a6b1603-5601-4ce2-b4d0-1ee5faa5c4bb",
       "elementType": "command",
       "guid": "096a8c94-ed4e-4461-8ac0-0391f87bebbf",
       "options": null,
       "position": {
        "height": 6,
        "width": 12,
        "x": 0,
        "y": 12,
        "z": null
       },
       "resultIndex": null
      },
      {
       "dashboardResultIndex": 0,
       "elementNUID": "e13a53c7-e354-4a44-9c9a-337527916faf",
       "elementType": "command",
       "guid": "22183f3e-c0d0-43bd-8367-f5cfb4948d84",
       "options": null,
       "position": {
        "height": 6,
        "width": 12,
        "x": 0,
        "y": 54,
        "z": null
       },
       "resultIndex": null
      },
      {
       "dashboardResultIndex": 0,
       "elementNUID": "e052c0ee-9c54-4cc1-8876-85d78a0e1cb6",
       "elementType": "command",
       "guid": "22c37aa3-89ef-4f53-8a61-f70f1de8df8d",
       "options": null,
       "position": {
        "height": 6,
        "width": 12,
        "x": 0,
        "y": 36,
        "z": null
       },
       "resultIndex": null
      },
      {
       "dashboardResultIndex": null,
       "elementNUID": "e4b44b46-a59b-4d21-af35-b9393d220e12",
       "elementType": "command",
       "guid": "2e607ebb-4e28-417c-a940-eea41971d03d",
       "options": null,
       "position": {
        "height": 6,
        "width": 12,
        "x": 0,
        "y": 0,
        "z": null
       },
       "resultIndex": null
      },
      {
       "dashboardResultIndex": 0,
       "elementNUID": "b6ee57b6-d066-422e-8dc8-c9e89a0ac278",
       "elementType": "command",
       "guid": "428f27e3-d405-4ea5-8e2c-370cb73aeac8",
       "options": null,
       "position": {
        "height": 6,
        "width": 12,
        "x": 0,
        "y": 42,
        "z": null
       },
       "resultIndex": null
      },
      {
       "dashboardResultIndex": null,
       "elementNUID": "a5cb6404-d330-4b36-bee2-679def582f7d",
       "elementType": "command",
       "guid": "4f0ed987-be3c-4c7e-98d5-af6af00d49e0",
       "options": null,
       "position": {
        "height": 6,
        "width": 12,
        "x": 0,
        "y": 90,
        "z": null
       },
       "resultIndex": null
      },
      {
       "dashboardResultIndex": null,
       "elementNUID": "b766f9de-03cd-4800-9337-3d33646a6ddb",
       "elementType": "command",
       "guid": "5991bb78-c9eb-4d6b-ac15-5bf1618cf460",
       "options": null,
       "position": {
        "height": 6,
        "width": 12,
        "x": 0,
        "y": 84,
        "z": null
       },
       "resultIndex": null
      },
      {
       "dashboardResultIndex": null,
       "elementNUID": "b70ebcdb-3caf-4cc2-a013-4957228b6f21",
       "elementType": "command",
       "guid": "5fa0b499-7f18-4b21-8742-c1056d1c9efb",
       "options": null,
       "position": {
        "height": 6,
        "width": 12,
        "x": 0,
        "y": 6,
        "z": null
       },
       "resultIndex": null
      },
      {
       "dashboardResultIndex": null,
       "elementNUID": "d35bc34e-cea0-49ae-81a0-e31950775c5a",
       "elementType": "command",
       "guid": "630c3d19-1314-4d4d-babd-88b58e2b6dfd",
       "options": null,
       "position": {
        "height": 6,
        "width": 12,
        "x": 0,
        "y": 18,
        "z": null
       },
       "resultIndex": null
      },
      {
       "dashboardResultIndex": null,
       "elementNUID": "e1bc3b53-71f4-4afe-ae58-1348e785922f",
       "elementType": "command",
       "guid": "72145c9d-aa75-412a-bf25-3fbe00663e8b",
       "options": null,
       "position": {
        "height": 6,
        "width": 12,
        "x": 0,
        "y": 30,
        "z": null
       },
       "resultIndex": null
      },
      {
       "dashboardResultIndex": null,
       "elementNUID": "9f334749-7dc6-4fb3-967e-5dd59305b10c",
       "elementType": "command",
       "guid": "74fc5a81-3e6d-4c99-a2fd-fbd5f4fae93d",
       "options": null,
       "position": {
        "height": 6,
        "width": 12,
        "x": 0,
        "y": 96,
        "z": null
       },
       "resultIndex": null
      },
      {
       "dashboardResultIndex": 0,
       "elementNUID": "07b930b9-b8a1-4612-96c3-c40322e18af6",
       "elementType": "command",
       "guid": "75c5ff95-3017-4308-8dd1-60302fc32bd6",
       "options": null,
       "position": {
        "height": 6,
        "width": 12,
        "x": 0,
        "y": 60,
        "z": null
       },
       "resultIndex": null
      },
      {
       "dashboardResultIndex": 0,
       "elementNUID": "e9fa5cf9-4418-41e2-bed5-a091a1d8ab9b",
       "elementType": "command",
       "guid": "844cafe4-3da6-4735-87b6-d74717caf344",
       "options": null,
       "position": {
        "height": 6,
        "width": 12,
        "x": 0,
        "y": 48,
        "z": null
       },
       "resultIndex": null
      },
      {
       "dashboardResultIndex": 0,
       "elementNUID": "a47bf556-c200-4439-b508-ed3fcbf6c9a2",
       "elementType": "command",
       "guid": "8cc19d4c-8b0d-4fce-9c0d-9dfc2fec3457",
       "options": null,
       "position": {
        "height": 6,
        "width": 12,
        "x": 0,
        "y": 24,
        "z": null
       },
       "resultIndex": null
      },
      {
       "dashboardResultIndex": 0,
       "elementNUID": "4a56c6ab-1133-46b3-b990-6653c5756a98",
       "elementType": "command",
       "guid": "90765971-2438-49e6-8ce3-551f36c68857",
       "options": null,
       "position": {
        "height": 6,
        "width": 12,
        "x": 0,
        "y": 66,
        "z": null
       },
       "resultIndex": null
      },
      {
       "dashboardResultIndex": null,
       "elementNUID": "ebfdf07b-3edd-4972-8036-1a6601663741",
       "elementType": "command",
       "guid": "a2330041-9122-4053-9102-6e1cc03420d4",
       "options": null,
       "position": {
        "height": 6,
        "width": 12,
        "x": 0,
        "y": 102,
        "z": null
       },
       "resultIndex": null
      },
      {
       "dashboardResultIndex": null,
       "elementNUID": "db9e0701-520d-42f5-bf81-48c6a25cf7b5",
       "elementType": "command",
       "guid": "eb6d3dd2-609f-4734-a0cd-5ff0763a5216",
       "options": null,
       "position": {
        "height": 6,
        "width": 12,
        "x": 0,
        "y": 72,
        "z": null
       },
       "resultIndex": null
      },
      {
       "dashboardResultIndex": null,
       "elementNUID": "cc554023-e6ce-45c8-83e8-313c8e65a8d9",
       "elementType": "command",
       "guid": "f2e7310d-c4ea-44e9-a37c-68f92ba0819d",
       "options": null,
       "position": {
        "height": 6,
        "width": 12,
        "x": 0,
        "y": 78,
        "z": null
       },
       "resultIndex": null
      }
     ],
     "globalVars": {},
     "guid": "",
     "layoutOption": {
      "grid": true,
      "stack": true
     },
     "nuid": "8f8bfc1c-d765-4366-95a4-2ac2a9111540",
     "origId": 2097455810985166,
     "title": "Sales_Analysis",
     "version": "DashboardViewV1",
     "width": 1024
    },
    {
     "elements": [
      {
       "dashboardResultIndex": null,
       "elementNUID": "b70ebcdb-3caf-4cc2-a013-4957228b6f21",
       "elementType": "command",
       "guid": "0c8fef3d-17b1-488f-b1f9-c8c6043d3f82",
       "options": null,
       "position": {
        "height": 6,
        "width": 12,
        "x": 0,
        "y": 48,
        "z": null
       },
       "resultIndex": null
      },
      {
       "dashboardResultIndex": 0,
       "elementNUID": "8a6b1603-5601-4ce2-b4d0-1ee5faa5c4bb",
       "elementType": "command",
       "guid": "133422b8-02d6-4fa4-ba29-a69c81dc8840",
       "options": null,
       "position": {
        "height": 6,
        "width": 12,
        "x": 0,
        "y": 54,
        "z": null
       },
       "resultIndex": null
      },
      {
       "dashboardResultIndex": 0,
       "elementNUID": "d9a3b6dd-fe9f-46e4-ab33-2cb9634791a0",
       "elementType": "command",
       "guid": "1cffcd4f-f7f6-4957-85ad-e83bd8739b7c",
       "options": null,
       "position": {
        "height": 6,
        "width": 12,
        "x": 0,
        "y": 36,
        "z": null
       },
       "resultIndex": null
      },
      {
       "dashboardResultIndex": 0,
       "elementNUID": "0b3e4e86-07ca-48bb-9cf9-7d2429e99d9b",
       "elementType": "command",
       "guid": "1ee427cd-3244-44a0-942a-e58c7ee68896",
       "options": null,
       "position": {
        "height": 6,
        "width": 12,
        "x": 0,
        "y": 6,
        "z": null
       },
       "resultIndex": null
      },
      {
       "dashboardResultIndex": null,
       "elementNUID": "b766f9de-03cd-4800-9337-3d33646a6ddb",
       "elementType": "command",
       "guid": "1fa806b1-9bc7-4140-a609-4d76ea9585e6",
       "options": null,
       "position": {
        "height": 6,
        "width": 12,
        "x": 0,
        "y": 126,
        "z": null
       },
       "resultIndex": null
      },
      {
       "dashboardResultIndex": 0,
       "elementNUID": "67e8a91e-3963-4a10-835d-cd9a99c3e674",
       "elementType": "command",
       "guid": "258cffdd-c28c-4e7c-80bc-795e2619e18c",
       "options": null,
       "position": {
        "height": 6,
        "width": 12,
        "x": 0,
        "y": 12,
        "z": null
       },
       "resultIndex": null
      },
      {
       "dashboardResultIndex": 0,
       "elementNUID": "eab59bd4-92ed-431b-999b-e342e857fe48",
       "elementType": "command",
       "guid": "33e9e16d-7cf3-49a3-99b8-3c89e845ab76",
       "options": null,
       "position": {
        "height": 6,
        "width": 12,
        "x": 0,
        "y": 24,
        "z": null
       },
       "resultIndex": null
      },
      {
       "dashboardResultIndex": null,
       "elementNUID": "d35bc34e-cea0-49ae-81a0-e31950775c5a",
       "elementType": "command",
       "guid": "365b27c2-097f-4c40-8564-7e161361a1c8",
       "options": null,
       "position": {
        "height": 6,
        "width": 12,
        "x": 0,
        "y": 60,
        "z": null
       },
       "resultIndex": null
      },
      {
       "dashboardResultIndex": 0,
       "elementNUID": "e13a53c7-e354-4a44-9c9a-337527916faf",
       "elementType": "command",
       "guid": "36ccd94b-8e7d-4614-9369-a6fb5f85105f",
       "options": null,
       "position": {
        "height": 6,
        "width": 12,
        "x": 0,
        "y": 96,
        "z": null
       },
       "resultIndex": null
      },
      {
       "dashboardResultIndex": 0,
       "elementNUID": "c8e7cd14-fe68-4fb4-bb25-dd9fe2e19b91",
       "elementType": "command",
       "guid": "392c7a9f-1b4b-44e8-b159-3c80945b1924",
       "options": null,
       "position": {
        "height": 6,
        "width": 12,
        "x": 0,
        "y": 18,
        "z": null
       },
       "resultIndex": null
      },
      {
       "dashboardResultIndex": 0,
       "elementNUID": "e052c0ee-9c54-4cc1-8876-85d78a0e1cb6",
       "elementType": "command",
       "guid": "3ba9c51a-5252-4621-aa34-0602c6c6a39b",
       "options": null,
       "position": {
        "height": 6,
        "width": 12,
        "x": 0,
        "y": 78,
        "z": null
       },
       "resultIndex": null
      },
      {
       "dashboardResultIndex": null,
       "elementNUID": "9f334749-7dc6-4fb3-967e-5dd59305b10c",
       "elementType": "command",
       "guid": "488cc87a-7a3d-4f60-865a-165efcc23d62",
       "options": null,
       "position": {
        "height": 6,
        "width": 12,
        "x": 0,
        "y": 138,
        "z": null
       },
       "resultIndex": null
      },
      {
       "dashboardResultIndex": 0,
       "elementNUID": "b6ee57b6-d066-422e-8dc8-c9e89a0ac278",
       "elementType": "command",
       "guid": "4c1e56f1-ba9c-42b9-b165-f2648753243e",
       "options": null,
       "position": {
        "height": 6,
        "width": 12,
        "x": 0,
        "y": 84,
        "z": null
       },
       "resultIndex": null
      },
      {
       "dashboardResultIndex": null,
       "elementNUID": "db9e0701-520d-42f5-bf81-48c6a25cf7b5",
       "elementType": "command",
       "guid": "4e27d1f2-e5ee-416f-a94d-a6e248f7278d",
       "options": null,
       "position": {
        "height": 6,
        "width": 12,
        "x": 0,
        "y": 114,
        "z": null
       },
       "resultIndex": null
      },
      {
       "dashboardResultIndex": null,
       "elementNUID": "e1bc3b53-71f4-4afe-ae58-1348e785922f",
       "elementType": "command",
       "guid": "75464857-4bd3-4ff5-a675-c12489f8a348",
       "options": null,
       "position": {
        "height": 6,
        "width": 12,
        "x": 0,
        "y": 72,
        "z": null
       },
       "resultIndex": null
      },
      {
       "dashboardResultIndex": null,
       "elementNUID": "a5cb6404-d330-4b36-bee2-679def582f7d",
       "elementType": "command",
       "guid": "987a7c1a-b0cb-4a30-b250-15bba26e9e4a",
       "options": null,
       "position": {
        "height": 6,
        "width": 12,
        "x": 0,
        "y": 132,
        "z": null
       },
       "resultIndex": null
      },
      {
       "dashboardResultIndex": 0,
       "elementNUID": "4208f5ca-a342-444a-880c-d241588584d0",
       "elementType": "command",
       "guid": "a05e03ae-2351-405c-ad50-1672d29dd282",
       "options": null,
       "position": {
        "height": 6,
        "width": 12,
        "x": 0,
        "y": 0,
        "z": null
       },
       "resultIndex": null
      },
      {
       "dashboardResultIndex": null,
       "elementNUID": "ebfdf07b-3edd-4972-8036-1a6601663741",
       "elementType": "command",
       "guid": "a07da330-ae7b-4a30-b5dd-8b1509ed7422",
       "options": null,
       "position": {
        "height": 6,
        "width": 12,
        "x": 0,
        "y": 144,
        "z": null
       },
       "resultIndex": null
      },
      {
       "dashboardResultIndex": null,
       "elementNUID": "cc554023-e6ce-45c8-83e8-313c8e65a8d9",
       "elementType": "command",
       "guid": "a37a2aaf-bab8-4763-83eb-a18a7f39c874",
       "options": null,
       "position": {
        "height": 6,
        "width": 12,
        "x": 0,
        "y": 120,
        "z": null
       },
       "resultIndex": null
      },
      {
       "dashboardResultIndex": 0,
       "elementNUID": "a47bf556-c200-4439-b508-ed3fcbf6c9a2",
       "elementType": "command",
       "guid": "a9893abd-3463-4d48-a998-c22c70038d9d",
       "options": null,
       "position": {
        "height": 6,
        "width": 12,
        "x": 0,
        "y": 66,
        "z": null
       },
       "resultIndex": null
      },
      {
       "dashboardResultIndex": 0,
       "elementNUID": "07b930b9-b8a1-4612-96c3-c40322e18af6",
       "elementType": "command",
       "guid": "ad3aa5f4-e62b-4914-b96a-81251af6ff87",
       "options": null,
       "position": {
        "height": 6,
        "width": 12,
        "x": 0,
        "y": 102,
        "z": null
       },
       "resultIndex": null
      },
      {
       "dashboardResultIndex": 0,
       "elementNUID": "8573e8e3-25b5-44b9-bb53-b9ce7ed10610",
       "elementType": "command",
       "guid": "b7c85c15-f310-4c08-934d-f9f7d1818adc",
       "options": null,
       "position": {
        "height": 6,
        "width": 12,
        "x": 0,
        "y": 30,
        "z": null
       },
       "resultIndex": null
      },
      {
       "dashboardResultIndex": 0,
       "elementNUID": "e9fa5cf9-4418-41e2-bed5-a091a1d8ab9b",
       "elementType": "command",
       "guid": "c4939a80-437e-496d-8028-71548374427a",
       "options": null,
       "position": {
        "height": 6,
        "width": 12,
        "x": 0,
        "y": 90,
        "z": null
       },
       "resultIndex": null
      },
      {
       "dashboardResultIndex": null,
       "elementNUID": "e4b44b46-a59b-4d21-af35-b9393d220e12",
       "elementType": "command",
       "guid": "d0f359e5-d581-44f3-85ff-141fe0e29edb",
       "options": null,
       "position": {
        "height": 6,
        "width": 12,
        "x": 0,
        "y": 42,
        "z": null
       },
       "resultIndex": null
      },
      {
       "dashboardResultIndex": 0,
       "elementNUID": "4a56c6ab-1133-46b3-b990-6653c5756a98",
       "elementType": "command",
       "guid": "eb81b6b5-5279-455e-8c9b-a1a574f86f0d",
       "options": null,
       "position": {
        "height": 6,
        "width": 12,
        "x": 0,
        "y": 108,
        "z": null
       },
       "resultIndex": null
      }
     ],
     "globalVars": {},
     "guid": "",
     "layoutOption": {
      "grid": true,
      "stack": true
     },
     "nuid": "ae00234d-0676-450a-a831-d9e3b6f746ba",
     "origId": 2097455810985167,
     "title": "Untitled",
     "version": "DashboardViewV1",
     "width": 1024
    },
    {
     "elements": [
      {
       "dashboardResultIndex": null,
       "elementNUID": "d35bc34e-cea0-49ae-81a0-e31950775c5a",
       "elementType": "command",
       "guid": "04621286-73f3-44d3-80f0-961dcb100378",
       "options": {
        "autoScaleImg": false,
        "scale": 0,
        "showTitle": true,
        "title": "Monthly Sales",
        "titleAlign": "center"
       },
       "position": {
        "height": 6,
        "width": 12,
        "x": 12,
        "y": 10,
        "z": null
       },
       "resultIndex": null
      },
      {
       "dashboardResultIndex": null,
       "elementNUID": "b766f9de-03cd-4800-9337-3d33646a6ddb",
       "elementType": "command",
       "guid": "0519f1a7-8c02-49c4-8bf8-55637f67cbca",
       "options": {
        "autoScaleImg": false,
        "scale": 0,
        "showTitle": true,
        "title": "Top Item",
        "titleAlign": "center"
       },
       "position": {
        "height": 5,
        "width": 24,
        "x": 0,
        "y": 0,
        "z": null
       },
       "resultIndex": null
      },
      {
       "dashboardResultIndex": null,
       "elementNUID": "a5cb6404-d330-4b36-bee2-679def582f7d",
       "elementType": "command",
       "guid": "0fd65333-74f6-4d96-82b8-1fbabdba875a",
       "options": {
        "autoScaleImg": false,
        "scale": 0,
        "showTitle": true,
        "title": "Frequency of Customer Visited",
        "titleAlign": "center"
       },
       "position": {
        "height": 6,
        "width": 12,
        "x": 0,
        "y": 16,
        "z": null
       },
       "resultIndex": null
      },
      {
       "dashboardResultIndex": null,
       "elementNUID": "b70ebcdb-3caf-4cc2-a013-4957228b6f21",
       "elementType": "command",
       "guid": "1e53cfc7-23dd-4b07-a843-8f519650d353",
       "options": {
        "autoScaleImg": false,
        "scale": 0,
        "showTitle": true,
        "title": "Total Amount Spent By Each Food Category",
        "titleAlign": "center"
       },
       "position": {
        "height": 5,
        "width": 12,
        "x": 12,
        "y": 5,
        "z": null
       },
       "resultIndex": null
      },
      {
       "dashboardResultIndex": null,
       "elementNUID": "cc554023-e6ce-45c8-83e8-313c8e65a8d9",
       "elementType": "command",
       "guid": "36c19e00-f60d-42ea-b5d0-3ec860a7e906",
       "options": {
        "autoScaleImg": false,
        "scale": 0,
        "showTitle": true,
        "title": "Top Category items",
        "titleAlign": "center"
       },
       "position": {
        "height": 6,
        "width": 12,
        "x": 0,
        "y": 22,
        "z": null
       },
       "resultIndex": null
      },
      {
       "dashboardResultIndex": null,
       "elementNUID": "ebfdf07b-3edd-4972-8036-1a6601663741",
       "elementType": "command",
       "guid": "5632867f-32da-4f08-8180-d850757e28c3",
       "options": {
        "autoScaleImg": false,
        "scale": 0,
        "showTitle": true,
        "title": "Total sales by source",
        "titleAlign": "center"
       },
       "position": {
        "height": 6,
        "width": 23,
        "x": 0,
        "y": 28,
        "z": null
       },
       "resultIndex": null
      },
      {
       "dashboardResultIndex": null,
       "elementNUID": "db9e0701-520d-42f5-bf81-48c6a25cf7b5",
       "elementType": "command",
       "guid": "5c8ab866-a678-48bc-ac51-364255b4553a",
       "options": {
        "autoScaleImg": false,
        "scale": 0,
        "showTitle": true,
        "title": "Quarterly Sales",
        "titleAlign": "center"
       },
       "position": {
        "height": 6,
        "width": 12,
        "x": 12,
        "y": 16,
        "z": null
       },
       "resultIndex": null
      },
      {
       "dashboardResultIndex": null,
       "elementNUID": "e1bc3b53-71f4-4afe-ae58-1348e785922f",
       "elementType": "command",
       "guid": "904018c9-b404-41f2-8283-dcd0d73bdcec",
       "options": {
        "autoScaleImg": false,
        "scale": 0,
        "showTitle": true,
        "title": "Yearly Sales",
        "titleAlign": "center"
       },
       "position": {
        "height": 6,
        "width": 12,
        "x": 0,
        "y": 10,
        "z": null
       },
       "resultIndex": null
      },
      {
       "dashboardResultIndex": null,
       "elementNUID": "e4b44b46-a59b-4d21-af35-b9393d220e12",
       "elementType": "command",
       "guid": "c9df6ea1-5e97-4d84-b52a-caf021256cb9",
       "options": {
        "autoScaleImg": false,
        "scale": 0,
        "showTitle": true,
        "title": "Total Amount Spent By Each Customer",
        "titleAlign": "center"
       },
       "position": {
        "height": 5,
        "width": 12,
        "x": 0,
        "y": 5,
        "z": null
       },
       "resultIndex": null
      },
      {
       "dashboardResultIndex": null,
       "elementNUID": "9f334749-7dc6-4fb3-967e-5dd59305b10c",
       "elementType": "command",
       "guid": "e4a8e2df-282d-4ddf-ba72-b44d6c4a190c",
       "options": {
        "autoScaleImg": false,
        "scale": 0,
        "showTitle": true,
        "title": "Total sales by each country",
        "titleAlign": "center"
       },
       "position": {
        "height": 6,
        "width": 12,
        "x": 12,
        "y": 22,
        "z": null
       },
       "resultIndex": null
      }
     ],
     "globalVars": {},
     "guid": "",
     "layoutOption": {
      "grid": true,
      "stack": false
     },
     "nuid": "eafe4d8b-96bd-4005-8da6-bcc7e432996c",
     "origId": 2097455810985168,
     "title": "Sales_Analysis",
     "version": "DashboardViewV1",
     "width": 1024
    }
   ],
   "language": "python",
   "notebookMetadata": {
    "pythonIndentUnit": 4
   },
   "notebookName": "pyspark project sales Analysis",
   "widgets": {}
  }
 },
 "nbformat": 4,
 "nbformat_minor": 0
}
